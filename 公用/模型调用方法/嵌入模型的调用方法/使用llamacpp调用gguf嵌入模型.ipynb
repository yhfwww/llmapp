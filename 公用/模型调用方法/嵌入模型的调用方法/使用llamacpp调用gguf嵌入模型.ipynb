{
 "cells": [
  {
   "cell_type": "markdown",
   "metadata": {},
   "source": [
    "## linux \n",
    "`pip install llama-cpp-python`\n",
    "\n",
    "## windows\n",
    "从 https://github.com/abetlen/llama-cpp-python/releases 下载 .whl 文件  \n",
    "`pip install llama_cpp_python-0.3.1-cp311-cp311-win_amd64.whl`\n",
    "\n",
    "### 参考资料\n",
    "1. https://github.com/abetlen/llama-cpp-python"
   ]
  },
  {
   "cell_type": "code",
   "execution_count": 2,
   "metadata": {},
   "outputs": [],
   "source": [
    "import llama_cpp"
   ]
  },
  {
   "cell_type": "code",
   "execution_count": null,
   "metadata": {},
   "outputs": [],
   "source": [
    "import os"
   ]
  }
 ],
 "metadata": {
  "kernelspec": {
   "display_name": "py310llamaindex",
   "language": "python",
   "name": "python3"
  },
  "language_info": {
   "codemirror_mode": {
    "name": "ipython",
    "version": 3
   },
   "file_extension": ".py",
   "mimetype": "text/x-python",
   "name": "python",
   "nbconvert_exporter": "python",
   "pygments_lexer": "ipython3",
   "version": "3.11.10"
  }
 },
 "nbformat": 4,
 "nbformat_minor": 2
}
