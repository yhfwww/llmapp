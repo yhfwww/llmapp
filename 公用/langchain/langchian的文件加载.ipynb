{
 "cells": [
  {
   "cell_type": "markdown",
   "metadata": {},
   "source": [
    "参考资料：\n",
    "1. https://python.langchain.com/docs/integrations/document_loaders/"
   ]
  },
  {
   "cell_type": "markdown",
   "metadata": {},
   "source": [
    "### 文本文件加载器 TextLoader\n",
    "读取简单的 .txt 文件加载到 document 中。"
   ]
  },
  {
   "cell_type": "code",
   "execution_count": 16,
   "metadata": {},
   "outputs": [
    {
     "name": "stdout",
     "output_type": "stream",
     "text": [
      "[Document(metadata={'source': '../../datas/testfiles/测试文件.txt'}, page_content='这个警告信息表示在您的 requirements.txt 文件中，行结束符（Line Feed, LF）将会在下次 Git 操作时被替换为回车换行符（Carriage Return + Line Feed, CRLF）。这是因为 Git 在 Windows 系统上默认使用 CRLF 作为行结束符，而在 Unix/Linux 系统上则使用 LF。')]\n"
     ]
    }
   ],
   "source": [
    "from langchain.document_loaders import TextLoader\n",
    "loader = TextLoader(r\"../../datas/testfiles/测试文件.txt\")\n",
    "document = loader.load()\n",
    "print(document)"
   ]
  },
  {
   "cell_type": "markdown",
   "metadata": {},
   "source": [
    "### CSV 加载器 CSVLoader\n",
    "将 CSV 文件加载到 document 中。"
   ]
  },
  {
   "cell_type": "code",
   "execution_count": 40,
   "metadata": {},
   "outputs": [
    {
     "name": "stdout",
     "output_type": "stream",
     "text": [
      "[Document(metadata={'source': '../../datas/testfiles/测试文件.csv', 'row': 0}, page_content='名称: langchain\\n简介: 最流行的大模型应用开发框架\\n类型: LLM应用开发\\n地址: https://github.com/langchain-ai/langchain'), Document(metadata={'source': '../../datas/testfiles/测试文件.csv', 'row': 1}, page_content='名称: llamaindex\\n简介: LlamaIndex 是构建 LLM 应用程序的领先数据框架\\n类型: LLM应用开发\\n地址: https://www.llamaindex.ai/'), Document(metadata={'source': '../../datas/testfiles/测试文件.csv', 'row': 2}, page_content='名称: autogen\\n简介: AutoGen 是一个框架，它支持使用多个可以相互交流以解决任务的代理来开发 LLM 应用程序。AutoGen 代理可自定义、可交流，并可无缝允许人类参与。它们可以采用多种模式运行，这些模式结合了 LLM、人类输入和工具\\n类型: LLM应用开发\\n地址: '), Document(metadata={'source': '../../datas/testfiles/测试文件.csv', 'row': 3}, page_content='名称: autogen-studio\\n简介: AutoGen Studio 是一款由 AutoGen 提供支持的 AI 应用程序（用户界面），可帮助您快速构建 AI 代理原型、增强技能、将其组合到工作流中并与之交互以完成任务。它建立在 AutoGen 框架之上，AutoGen 框架是用于构建 AI 代理的工具包。\\n类型: LLM应用开发\\n地址: https://github.com/microsoft/autogen'), Document(metadata={'source': '../../datas/testfiles/测试文件.csv', 'row': 4}, page_content='名称: flowiseai\\n简介: 开源低代码工具，供开发人员构建自定义的 LLM 编排流程和 AI 代理\\n类型: LLM应用开发\\n地址: https://github.com/FlowiseAI/Flowise'), Document(metadata={'source': '../../datas/testfiles/测试文件.csv', 'row': 5}, page_content='名称: ChatTTS\\n简介: ChatTTS是一种用于日常对话的生成式语音模型\\n类型: 语音\\n地址: https://github.com/2noise/ChatTTS'), Document(metadata={'source': '../../datas/testfiles/测试文件.csv', 'row': 6}, page_content='名称: semantic-kernel\\n简介: Semantic Kernel 是一个开源 SDK，可让您轻松构建可调用现有代码的代理。作为高度可扩展的 SDK，您可以将 Semantic Kernel 与OpenAI、Azure OpenAI、Hugging Face等模型结合使用！通过将现有的 C#、Python 和 Java 代码与这些模型相结合，您可以构建可回答问题并自动化流程的代理。\\n类型: LLM应用开发\\n地址: https://github.com/microsoft/semantic-kernel'), Document(metadata={'source': '../../datas/testfiles/测试文件.csv', 'row': 7}, page_content='名称: Qdrant\\n简介: Qdrant - 面向下一代 AI 的高性能、大规模矢量数据库。也可在云端使用\\n类型: 向量数据库\\n地址: https://github.com/qdrant/qdrant'), Document(metadata={'source': '../../datas/testfiles/测试文件.csv', 'row': 8}, page_content='名称: crewai\\n简介: 用于协调角色扮演、自主 AI 代理的框架。通过促进协作智能，CrewAI 使代理能够无缝协作，解决复杂的任务\\n类型: LLM应用开发\\n地址: https://github.com/joaomdmoura/crewai'), Document(metadata={'source': '../../datas/testfiles/测试文件.csv', 'row': 9}, page_content='名称: Chroma\\n简介: AI 原生开源嵌入数据库\\n类型: 向量数据库\\n地址: https://github.com/chroma-core/chroma'), Document(metadata={'source': '../../datas/testfiles/测试文件.csv', 'row': 10}, page_content='名称: dspy\\n简介: DSPy：编程框架（而非提示基础模型）DSPy是一个使用语言模型 (LM) 和检索模型 (RM) 解决高级任务的框架。它统一了提示和微调 LM 的技术，以及使用检索和工具进行推理、自我改进和增强的方法。\\n类型: LLM应用开发\\n地址: https://github.com/stanfordnlp/dspy'), Document(metadata={'source': '../../datas/testfiles/测试文件.csv', 'row': 11}, page_content='名称: Qwen\\n简介: 通义千问，阿里云提出的Qwen（通义千问）聊天和预训练大型语言模型\\n类型: 大模型\\n地址: https://github.com/QwenLM/Qwen'), Document(metadata={'source': '../../datas/testfiles/测试文件.csv', 'row': 12}, page_content='名称: MemGPT\\n简介: 创建具有长期记忆和自定义工具的 LLM 代理\\n类型: LLM应用开发\\n地址: https://github.com/cpacker/MemGPT'), Document(metadata={'source': '../../datas/testfiles/测试文件.csv', 'row': 13}, page_content='名称: weaviate\\n简介: Weaviate 是一个开源矢量数据库，可以存储对象和矢量，允许将矢量搜索与结构化过滤相结合，具有云原生数据库的容错和可扩展性\\n类型: 向量数据库\\n地址: https://github.com/weaviate/weaviate'), Document(metadata={'source': '../../datas/testfiles/测试文件.csv', 'row': 14}, page_content='名称: Yi\\n简介: 开发人员 @01-ai 从头开始训练的一系列大型语言模型\\n类型: 大模型\\n地址: https://github.com/01-ai/Yi')]\n",
      "[Document(metadata={'source': '../../datas/testfiles/测试文件.csv', 'row': 0}, page_content='名称: 名称\\n类型: 简介\\nNone: 类型,地址'), Document(metadata={'source': '../../datas/testfiles/测试文件.csv', 'row': 1}, page_content='名称: langchain\\n类型: 最流行的大模型应用开发框架\\nNone: LLM应用开发,https://github.com/langchain-ai/langchain'), Document(metadata={'source': '../../datas/testfiles/测试文件.csv', 'row': 2}, page_content='名称: llamaindex\\n类型: LlamaIndex 是构建 LLM 应用程序的领先数据框架\\nNone: LLM应用开发,https://www.llamaindex.ai/'), Document(metadata={'source': '../../datas/testfiles/测试文件.csv', 'row': 3}, page_content='名称: autogen\\n类型: AutoGen 是一个框架，它支持使用多个可以相互交流以解决任务的代理来开发 LLM 应用程序。AutoGen 代理可自定义、可交流，并可无缝允许人类参与。它们可以采用多种模式运行，这些模式结合了 LLM、人类输入和工具\\nNone: LLM应用开发,'), Document(metadata={'source': '../../datas/testfiles/测试文件.csv', 'row': 4}, page_content='名称: autogen-studio\\n类型: AutoGen Studio 是一款由 AutoGen 提供支持的 AI 应用程序（用户界面），可帮助您快速构建 AI 代理原型、增强技能、将其组合到工作流中并与之交互以完成任务。它建立在 AutoGen 框架之上，AutoGen 框架是用于构建 AI 代理的工具包。\\nNone: LLM应用开发,https://github.com/microsoft/autogen'), Document(metadata={'source': '../../datas/testfiles/测试文件.csv', 'row': 5}, page_content='名称: flowiseai\\n类型: 开源低代码工具，供开发人员构建自定义的 LLM 编排流程和 AI 代理\\nNone: LLM应用开发,https://github.com/FlowiseAI/Flowise'), Document(metadata={'source': '../../datas/testfiles/测试文件.csv', 'row': 6}, page_content='名称: ChatTTS\\n类型: ChatTTS是一种用于日常对话的生成式语音模型\\nNone: 语音,https://github.com/2noise/ChatTTS'), Document(metadata={'source': '../../datas/testfiles/测试文件.csv', 'row': 7}, page_content='名称: semantic-kernel\\n类型: Semantic Kernel 是一个开源 SDK，可让您轻松构建可调用现有代码的代理。作为高度可扩展的 SDK，您可以将 Semantic Kernel 与OpenAI、Azure OpenAI、Hugging Face等模型结合使用！通过将现有的 C#、Python 和 Java 代码与这些模型相结合，您可以构建可回答问题并自动化流程的代理。\\nNone: LLM应用开发,https://github.com/microsoft/semantic-kernel'), Document(metadata={'source': '../../datas/testfiles/测试文件.csv', 'row': 8}, page_content='名称: Qdrant\\n类型: Qdrant - 面向下一代 AI 的高性能、大规模矢量数据库。也可在云端使用\\nNone: 向量数据库,https://github.com/qdrant/qdrant'), Document(metadata={'source': '../../datas/testfiles/测试文件.csv', 'row': 9}, page_content='名称: crewai\\n类型: 用于协调角色扮演、自主 AI 代理的框架。通过促进协作智能，CrewAI 使代理能够无缝协作，解决复杂的任务\\nNone: LLM应用开发,https://github.com/joaomdmoura/crewai'), Document(metadata={'source': '../../datas/testfiles/测试文件.csv', 'row': 10}, page_content='名称: Chroma\\n类型: AI 原生开源嵌入数据库\\nNone: 向量数据库,https://github.com/chroma-core/chroma'), Document(metadata={'source': '../../datas/testfiles/测试文件.csv', 'row': 11}, page_content='名称: dspy\\n类型: DSPy：编程框架（而非提示基础模型）DSPy是一个使用语言模型 (LM) 和检索模型 (RM) 解决高级任务的框架。它统一了提示和微调 LM 的技术，以及使用检索和工具进行推理、自我改进和增强的方法。\\nNone: LLM应用开发,https://github.com/stanfordnlp/dspy'), Document(metadata={'source': '../../datas/testfiles/测试文件.csv', 'row': 12}, page_content='名称: Qwen\\n类型: 通义千问，阿里云提出的Qwen（通义千问）聊天和预训练大型语言模型\\nNone: 大模型,https://github.com/QwenLM/Qwen'), Document(metadata={'source': '../../datas/testfiles/测试文件.csv', 'row': 13}, page_content='名称: MemGPT\\n类型: 创建具有长期记忆和自定义工具的 LLM 代理\\nNone: LLM应用开发,https://github.com/cpacker/MemGPT'), Document(metadata={'source': '../../datas/testfiles/测试文件.csv', 'row': 14}, page_content='名称: weaviate\\n类型: Weaviate 是一个开源矢量数据库，可以存储对象和矢量，允许将矢量搜索与结构化过滤相结合，具有云原生数据库的容错和可扩展性\\nNone: 向量数据库,https://github.com/weaviate/weaviate'), Document(metadata={'source': '../../datas/testfiles/测试文件.csv', 'row': 15}, page_content='名称: Yi\\n类型: 开发人员 @01-ai 从头开始训练的一系列大型语言模型\\nNone: 大模型,https://github.com/01-ai/Yi')]\n"
     ]
    }
   ],
   "source": [
    "from langchain_community.document_loaders.csv_loader import CSVLoader\n",
    "\n",
    "loader = CSVLoader(file_path=r\"../../datas/testfiles/测试文件.csv\",encoding=\"gbk\")\n",
    "document = loader.load()\n",
    "print(document)\n",
    "# 读取为一行一个 document \n",
    "# 可以选择通过指定字段名称来自定义解析 \n",
    "loader2 = CSVLoader(\n",
    "    file_path=r\"../../datas/testfiles/测试文件.csv\",\n",
    "    encoding=\"gbk\",\n",
    "    #source_column=\"名称\",# 作为源的列名 指定列以标识文档源\n",
    "    csv_args={\n",
    "    'delimiter': ',',# 字段分隔符\n",
    "    #'quotechar': '\"', # quotechar: 用于包围字段的引号字符，默认是双引号（\"）\n",
    "    'fieldnames': [\"名称\",\"类型\"] # 效果不好--\n",
    "})\n",
    "documents = loader2.load()\n",
    "print(documents)"
   ]
  },
  {
   "cell_type": "markdown",
   "metadata": {},
   "source": [
    "### PDF 文件加载器 PDFLoader\n",
    "LangChain 中的 PDF 加载器提供了多种解析和提取 PDF 文件内容的方法。每个加载器都满足不同的需求并使用不同的底层库。  \n",
    "PyPDFLoader "
   ]
  },
  {
   "cell_type": "code",
   "execution_count": 45,
   "metadata": {},
   "outputs": [
    {
     "data": {
      "text/plain": [
       "[Document(metadata={'source': '../../datas/testfiles/测试文件.pdf', 'page': 0}, page_content='警报疲劳不仅仅代表安全运营中心 （SOC） 团队的不便;它对企业安全构成了切实的威胁。\\n当分析师每天面对成千上万个警报的洪流时，每个警报都需要进行分类、调查和关联，宝贵\\n的时间很容易浪费在误报上，可能会忽略整个企业数据泄露的真正指标。')]"
      ]
     },
     "execution_count": 45,
     "metadata": {},
     "output_type": "execute_result"
    }
   ],
   "source": [
    "from langchain.document_loaders import PyPDFLoader\n",
    "loader = PyPDFLoader(r\"../../datas/testfiles/测试文件.pdf\")\n",
    "pages = loader.load_and_split()\n",
    "pages"
   ]
  },
  {
   "cell_type": "markdown",
   "metadata": {},
   "source": [
    "MathPixLoader 是提取数学内容和图表的理想选择。"
   ]
  },
  {
   "cell_type": "code",
   "execution_count": 46,
   "metadata": {},
   "outputs": [],
   "source": [
    "from langchain.document_loaders import MathpixPDFLoader\n",
    "loader = MathpixPDFLoader(r\"../../datas/testfiles/测试文件.pdf\")\n",
    "data = loader.load()\n",
    "# 需要 mathpix_api_key 才能使用"
   ]
  },
  {
   "cell_type": "markdown",
   "metadata": {},
   "source": [
    "PyMuPDFLoader 速度很快，并且包含详细的元数据提取。\n"
   ]
  },
  {
   "cell_type": "code",
   "execution_count": 52,
   "metadata": {},
   "outputs": [
    {
     "data": {
      "text/plain": [
       "[Document(metadata={'source': '../../datas/testfiles/测试文件.pdf', 'file_path': '../../datas/testfiles/测试文件.pdf', 'page': 0, 'total_pages': 1, 'format': 'PDF 1.7', 'title': '', 'author': '鸿佛', 'subject': '', 'keywords': '', 'creator': 'WPS 文字', 'producer': '', 'creationDate': \"D:20241128172251+08'00'\", 'modDate': \"D:20241128172251+08'00'\", 'trapped': ''}, page_content='警报疲劳不仅仅代表安全运营中心（SOC）团队的不便;它对企业安全构成了切实的威胁。\\n当分析师每天面对成千上万个警报的洪流时，每个警报都需要进行分类、调查和关联，宝贵\\n的时间很容易浪费在误报上，可能会忽略整个企业数据泄露的真正指标。\\n')]"
      ]
     },
     "execution_count": 52,
     "metadata": {},
     "output_type": "execute_result"
    }
   ],
   "source": [
    "from langchain.document_loaders import PyMuPDFLoader\n",
    "loader = PyMuPDFLoader(r\"../../datas/testfiles/测试文件.pdf\")\n",
    "data = loader.load()\n",
    "data"
   ]
  },
  {
   "cell_type": "code",
   "execution_count": 53,
   "metadata": {},
   "outputs": [
    {
     "name": "stderr",
     "output_type": "stream",
     "text": [
      "Received runtime arguments {'option': 'text'}. Passing runtime args to `load` is deprecated. Please pass arguments during initialization instead.\n"
     ]
    },
    {
     "data": {
      "text/plain": [
       "[Document(metadata={'source': '../../datas/testfiles/测试文件.pdf', 'file_path': '../../datas/testfiles/测试文件.pdf', 'page': 0, 'total_pages': 1, 'format': 'PDF 1.7', 'title': '', 'author': '鸿佛', 'subject': '', 'keywords': '', 'creator': 'WPS 文字', 'producer': '', 'creationDate': \"D:20241128172251+08'00'\", 'modDate': \"D:20241128172251+08'00'\", 'trapped': ''}, page_content='警报疲劳不仅仅代表安全运营中心（SOC）团队的不便;它对企业安全构成了切实的威胁。\\n当分析师每天面对成千上万个警报的洪流时，每个警报都需要进行分类、调查和关联，宝贵\\n的时间很容易浪费在误报上，可能会忽略整个企业数据泄露的真正指标。\\n')]"
      ]
     },
     "execution_count": 53,
     "metadata": {},
     "output_type": "execute_result"
    }
   ],
   "source": [
    "# 可选地传递额外参数给 PyMuPDF 的 get_text() 调用\n",
    "data = loader.load(option=\"text\")\n",
    "data"
   ]
  },
  {
   "cell_type": "markdown",
   "metadata": {},
   "source": [
    "PDFMiner Loader 用于对文本提取进行更精细的控制。"
   ]
  },
  {
   "cell_type": "code",
   "execution_count": 57,
   "metadata": {},
   "outputs": [
    {
     "data": {
      "text/plain": [
       "[Document(metadata={'source': '../../datas/testfiles/测试文件.pdf'}, page_content='警报疲劳不仅仅代表安全运营中心 （SOC） 团队的不便;它对企业安全构成了切实的威胁。\\n当分析师每天面对成千上万个警报的洪流时，每个警报都需要进行分类、调查和关联，宝贵\\n的时间很容易浪费在误报上，可能会忽略整个企业数据泄露的真正指标。\\n\\n\\x0c')]"
      ]
     },
     "execution_count": 57,
     "metadata": {},
     "output_type": "execute_result"
    }
   ],
   "source": [
    "from langchain.document_loaders import PDFMinerLoader\n",
    "loader = PDFMinerLoader(r\"../../datas/testfiles/测试文件.pdf\")\n",
    "data = loader.load()\n",
    "data"
   ]
  },
  {
   "cell_type": "markdown",
   "metadata": {},
   "source": [
    "Amazon Textract PDFParser 利用AWS Textract实现 OCR 和其他高级 PDF 解析功能。"
   ]
  },
  {
   "cell_type": "code",
   "execution_count": null,
   "metadata": {},
   "outputs": [],
   "source": [
    "from langchain.document_loaders import AmazonTextractPDFLoader\n",
    "# 需要 AWS 账户和配置\n",
    "loader = AmazonTextractPDFLoader(r\"../../datas/testfiles/测试文件.pdf\")\n",
    "documents = loader.load()"
   ]
  },
  {
   "cell_type": "markdown",
   "metadata": {},
   "source": [
    "PDFMinerPDFasHTMLLoader 从 PDF 生成 HTML 以进行语义解析。"
   ]
  },
  {
   "cell_type": "code",
   "execution_count": 61,
   "metadata": {},
   "outputs": [
    {
     "data": {
      "text/plain": [
       "[Document(metadata={'source': '../../datas/testfiles/测试文件.pdf'}, page_content='<html><head>\\n<meta http-equiv=\"Content-Type\" content=\"text/html\">\\n</head><body>\\n<span style=\"position:absolute; border: gray 1px solid; left:0px; top:50px; width:595px; height:841px;\"></span>\\n<div style=\"position:absolute; top:50px;\"><a name=\"1\">Page 1</a></div>\\n<div style=\"position:absolute; border: textbox 1px solid; writing-mode:lr-tb; left:90px; top:124px; width:419px; height:41px;\"><span style=\"font-family: SimSun; font-size:10px\">警报疲劳不仅仅代表安全运营中心 （</span><span style=\"font-family: Calibri; font-size:10px\">SOC</span><span style=\"font-family: SimSun; font-size:10px\">） 团队的不便</span><span style=\"font-family: Calibri; font-size:10px\">;</span><span style=\"font-family: SimSun; font-size:10px\">它对企业安全构成了切实的威胁。\\n<br>当分析师每天面对成千上万个警报的洪流时，每个警报都需要进行分类、调查和关联，宝贵\\n<br>的时间很容易浪费在误报上，可能会忽略整个企业数据泄露的真正指标。\\n<br></span></div><div style=\"position:absolute; top:0px;\">Page: <a href=\"#1\">1</a></div>\\n</body></html>\\n')]"
      ]
     },
     "execution_count": 61,
     "metadata": {},
     "output_type": "execute_result"
    }
   ],
   "source": [
    "from langchain.document_loaders import PDFMinerPDFasHTMLLoader\n",
    "\n",
    "loader = PDFMinerPDFasHTMLLoader(\"../../datas/testfiles/测试文件.pdf\")\n",
    "data = loader.load()\n",
    "data"
   ]
  },
  {
   "cell_type": "markdown",
   "metadata": {},
   "source": [
    "PDFPlumberLoader 提供详细的元数据并支持每页一个文档。"
   ]
  },
  {
   "cell_type": "code",
   "execution_count": 63,
   "metadata": {},
   "outputs": [
    {
     "data": {
      "text/plain": [
       "[Document(metadata={'source': '../../datas/testfiles/测试文件.pdf', 'file_path': '../../datas/testfiles/测试文件.pdf', 'page': 0, 'total_pages': 1, 'Author': '鸿佛', 'Comments': '', 'Company': '', 'CreationDate': \"D:20241128172251+08'00'\", 'Creator': 'WPS 文字', 'Keywords': '', 'ModDate': \"D:20241128172251+08'00'\", 'Producer': '', 'SourceModified': \"D:20241128172251+08'00'\", 'Subject': '', 'Title': '', 'Trapped': 'False'}, page_content='警报疲劳不仅仅代表安全运营中心 （SOC） 团队的不便;它对企业安全构成了切实的威胁。\\n当分析师每天面对成千上万个警报的洪流时，每个警报都需要进行分类、调查和关联，宝贵\\n的时间很容易浪费在误报上，可能会忽略整个企业数据泄露的真正指标。\\n')]"
      ]
     },
     "execution_count": 63,
     "metadata": {},
     "output_type": "execute_result"
    }
   ],
   "source": [
    "from langchain.document_loaders import PDFPlumberLoader\n",
    "\n",
    "loader = PDFPlumberLoader(\"../../datas/testfiles/测试文件.pdf\")\n",
    "data = loader.load()\n",
    "data"
   ]
  },
  {
   "cell_type": "code",
   "execution_count": null,
   "metadata": {},
   "outputs": [],
   "source": []
  }
 ],
 "metadata": {
  "kernelspec": {
   "display_name": "py311forllmapp",
   "language": "python",
   "name": "python3"
  },
  "language_info": {
   "codemirror_mode": {
    "name": "ipython",
    "version": 3
   },
   "file_extension": ".py",
   "mimetype": "text/x-python",
   "name": "python",
   "nbconvert_exporter": "python",
   "pygments_lexer": "ipython3",
   "version": "3.11.10"
  }
 },
 "nbformat": 4,
 "nbformat_minor": 2
}
